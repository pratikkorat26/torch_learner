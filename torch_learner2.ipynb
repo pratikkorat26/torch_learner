{
 "cells": [
  {
   "cell_type": "code",
   "execution_count": 11,
   "metadata": {},
   "outputs": [],
   "source": [
    "import torch \n",
    "import torch.nn as nn\n",
    "import torch.functional as F"
   ]
  },
  {
   "cell_type": "markdown",
   "metadata": {},
   "source": [
    "Here we have applied our own autograd function , that means we can modify that function"
   ]
  },
  {
   "cell_type": "code",
   "execution_count": 12,
   "metadata": {},
   "outputs": [
    {
     "name": "stdout",
     "output_type": "stream",
     "text": [
      "99 413.5734558105469\n",
      "199 0.9493845105171204\n",
      "299 0.004433592315763235\n",
      "399 0.0001338661677436903\n",
      "499 2.8581092919921502e-05\n",
      "599 1.341426650469657e-05\n",
      "699 8.496033842675388e-06\n",
      "799 5.843869985255878e-06\n",
      "899 4.540437203104375e-06\n",
      "999 3.556665888027055e-06\n",
      "1099 2.931039944087388e-06\n",
      "1199 2.4249857233371586e-06\n",
      "1299 2.078111265291227e-06\n",
      "1399 1.797496906874585e-06\n",
      "1499 1.52240340867138e-06\n"
     ]
    }
   ],
   "source": [
    "import torch\n",
    "\n",
    "\n",
    "class MyReLU(torch.autograd.Function):\n",
    "    @staticmethod\n",
    "    def forward(ctx, input):\n",
    "        '''\n",
    "        here we receiving our input tensor and then we get our final output tensor \n",
    "        and that can be used to find gradient \n",
    "        '''\n",
    "        ctx.save_for_backward(input)\n",
    "        return input.clamp(min=0)\n",
    "\n",
    "    @staticmethod\n",
    "    def backward(ctx, grad_output):\n",
    "        '''\n",
    "        Here , we are calculating gradient and it returns gradient thorugh this function\n",
    "        '''\n",
    "        input, = ctx.saved_tensors\n",
    "        grad_input = grad_output.clone()\n",
    "        grad_input[input < 0] = 0\n",
    "        return grad_input\n",
    "\n",
    "#type four our random data is float type\n",
    "dtype = torch.float\n",
    "\n",
    "#we are using here cpu as our default device\n",
    "device = torch.device(\"cpu\")\n",
    "\n",
    "#input dimension , hidden dimension and output dimension\n",
    "N, D_in, H, D_out = 64, 1000, 100, 10\n",
    "\n",
    "#this x ,y are our randomly generated data\n",
    "x = torch.randn(N, D_in, device=device, dtype=dtype)\n",
    "y = torch.randn(N, D_out, device=device, dtype=dtype)\n",
    "\n",
    "#this is our dumb weights in neural net hahahaha\n",
    "w1 = torch.randn(D_in, H, device=device, dtype=dtype, requires_grad=True)\n",
    "w2 = torch.randn(H, D_out, device=device, dtype=dtype, requires_grad=True)\n",
    "\n",
    "learning_rate = 1e-6\n",
    "\n",
    "for t in range(1500):\n",
    "    #we are calling here function of class \n",
    "    relu = MyReLU.apply\n",
    "    \n",
    "    #here we are getting forward pass\n",
    "    y_pred = relu(x.mm(w1)).mm(w2)\n",
    "    \n",
    "    #calculating loss\n",
    "    loss = (y_pred - y).pow(2).sum()\n",
    "    if t % 100 == 99:\n",
    "        print(t, loss.item())\n",
    "    #performin\n",
    "    loss.backward()\n",
    "\n",
    "    with torch.no_grad():\n",
    "        w1 -= learning_rate * w1.grad\n",
    "        w2 -= learning_rate * w2.grad\n",
    "\n",
    "        w1.grad.zero_()\n",
    "        w2.grad.zero_()"
   ]
  },
  {
   "cell_type": "code",
   "execution_count": null,
   "metadata": {},
   "outputs": [],
   "source": []
  }
 ],
 "metadata": {
  "kernelspec": {
   "display_name": "Python 3",
   "language": "python",
   "name": "python3"
  },
  "language_info": {
   "codemirror_mode": {
    "name": "ipython",
    "version": 3
   },
   "file_extension": ".py",
   "mimetype": "text/x-python",
   "name": "python",
   "nbconvert_exporter": "python",
   "pygments_lexer": "ipython3",
   "version": "3.6.10"
  }
 },
 "nbformat": 4,
 "nbformat_minor": 4
}
