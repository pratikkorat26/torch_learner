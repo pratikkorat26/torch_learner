{
 "cells": [
  {
   "cell_type": "code",
   "execution_count": 2,
   "metadata": {},
   "outputs": [],
   "source": [
    "import torch\n",
    "import torch.nn as nn\n",
    "import torch.nn.functional as F"
   ]
  },
  {
   "cell_type": "code",
   "execution_count": 60,
   "metadata": {},
   "outputs": [
    {
     "name": "stderr",
     "output_type": "stream",
     "text": [
      "C:\\Users\\pratik korat\\Anaconda3\\envs\\tf\\lib\\site-packages\\ipykernel_launcher.py:3: UserWarning: To copy construct from a tensor, it is recommended to use sourceTensor.clone().detach() or sourceTensor.clone().detach().requires_grad_(True), rather than torch.tensor(sourceTensor).\n",
      "  This is separate from the ipykernel package so we can avoid doing imports until\n"
     ]
    }
   ],
   "source": [
    "x = torch.randn((2,1,32,32))\n",
    "y = torch.tensor([[0,1,0],[1,0,0]])\n",
    "y_tensor = torch.tensor(y, dtype=torch.float32)"
   ]
  },
  {
   "cell_type": "code",
   "execution_count": 61,
   "metadata": {},
   "outputs": [],
   "source": [
    "model = torch.nn.Sequential(\n",
    "    nn.Conv2d(1,5, kernel_size = (3,3) , ),\n",
    "    nn.MaxPool2d((2,2)),\n",
    "    nn.Conv2d(5,10 , kernel_size = (3,3)),\n",
    "    nn.MaxPool2d((2,2)),\n",
    "    nn.Flatten(),\n",
    "    nn.Linear(360 , 15),\n",
    "    nn.ReLU(),\n",
    "    nn.Linear(15,10),\n",
    "    nn.ReLU(),\n",
    "    nn.Linear(10,3),\n",
    "    nn.Softmax()\n",
    ")"
   ]
  },
  {
   "cell_type": "code",
   "execution_count": 62,
   "metadata": {},
   "outputs": [],
   "source": [
    "my = model.parameters\n"
   ]
  },
  {
   "cell_type": "code",
   "execution_count": 63,
   "metadata": {},
   "outputs": [
    {
     "data": {
      "text/plain": [
       "<bound method Module.parameters of Sequential(\n",
       "  (0): Conv2d(1, 5, kernel_size=(3, 3), stride=(1, 1))\n",
       "  (1): MaxPool2d(kernel_size=(2, 2), stride=(2, 2), padding=0, dilation=1, ceil_mode=False)\n",
       "  (2): Conv2d(5, 10, kernel_size=(3, 3), stride=(1, 1))\n",
       "  (3): MaxPool2d(kernel_size=(2, 2), stride=(2, 2), padding=0, dilation=1, ceil_mode=False)\n",
       "  (4): Flatten()\n",
       "  (5): Linear(in_features=360, out_features=15, bias=True)\n",
       "  (6): ReLU()\n",
       "  (7): Linear(in_features=15, out_features=10, bias=True)\n",
       "  (8): ReLU()\n",
       "  (9): Linear(in_features=10, out_features=3, bias=True)\n",
       "  (10): Softmax(dim=None)\n",
       ")>"
      ]
     },
     "execution_count": 63,
     "metadata": {},
     "output_type": "execute_result"
    }
   ],
   "source": [
    "my"
   ]
  },
  {
   "cell_type": "code",
   "execution_count": 64,
   "metadata": {},
   "outputs": [],
   "source": [
    "loss = nn.BCELoss()\n",
    "optimizer = torch.optim.Adam(model.parameters())"
   ]
  },
  {
   "cell_type": "code",
   "execution_count": 65,
   "metadata": {},
   "outputs": [
    {
     "name": "stdout",
     "output_type": "stream",
     "text": [
      "99 tensor(0.0019, grad_fn=<BinaryCrossEntropyBackward>)\n",
      "199 tensor(0.0004, grad_fn=<BinaryCrossEntropyBackward>)\n",
      "299 tensor(0.0002, grad_fn=<BinaryCrossEntropyBackward>)\n",
      "399 tensor(0.0001, grad_fn=<BinaryCrossEntropyBackward>)\n",
      "499 tensor(7.4857e-05, grad_fn=<BinaryCrossEntropyBackward>)\n"
     ]
    }
   ],
   "source": [
    "for i in range(500):\n",
    "    y_pred = model(x)\n",
    "    losss = loss(y_pred , y_tensor)\n",
    "    \n",
    "    if i % 100 == 99:\n",
    "        print(i,losss)\n",
    "    \n",
    "    optimizer.zero_grad()\n",
    "    losss.backward()\n",
    "    optimizer.step()"
   ]
  },
  {
   "cell_type": "code",
   "execution_count": null,
   "metadata": {},
   "outputs": [],
   "source": []
  }
 ],
 "metadata": {
  "kernelspec": {
   "display_name": "Python 3",
   "language": "python",
   "name": "python3"
  },
  "language_info": {
   "codemirror_mode": {
    "name": "ipython",
    "version": 3
   },
   "file_extension": ".py",
   "mimetype": "text/x-python",
   "name": "python",
   "nbconvert_exporter": "python",
   "pygments_lexer": "ipython3",
   "version": "3.6.10"
  }
 },
 "nbformat": 4,
 "nbformat_minor": 4
}
