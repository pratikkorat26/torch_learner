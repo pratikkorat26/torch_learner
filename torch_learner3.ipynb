{
 "cells": [
  {
   "cell_type": "code",
   "execution_count": 71,
   "metadata": {},
   "outputs": [],
   "source": [
    "import numpy as np\n",
    "import pandas as pd\n",
    "from pandas import get_dummies\n",
    "import torch\n",
    "import torch.nn as nn\n",
    "import torch.nn.functional as F"
   ]
  },
  {
   "cell_type": "code",
   "execution_count": 85,
   "metadata": {},
   "outputs": [],
   "source": [
    "from sklearn.datasets import make_classification\n"
   ]
  },
  {
   "cell_type": "code",
   "execution_count": 95,
   "metadata": {},
   "outputs": [],
   "source": [
    "x = make_classification(n_samples = 100 , n_features = 4 , n_classes = 3 , n_clusters_per_class = 1)"
   ]
  },
  {
   "cell_type": "code",
   "execution_count": 119,
   "metadata": {},
   "outputs": [],
   "source": [
    "data = torch.tensor(x[0] , dtype = torch.float32)\n",
    "label = torch.tensor(np.array((get_dummies(x[1]))) , dtype = torch.float32)"
   ]
  },
  {
   "cell_type": "code",
   "execution_count": 120,
   "metadata": {},
   "outputs": [
    {
     "data": {
      "text/plain": [
       "tensor([ 1.6765, -1.8757, -0.3499, -0.6245])"
      ]
     },
     "execution_count": 120,
     "metadata": {},
     "output_type": "execute_result"
    }
   ],
   "source": [
    "data[0]"
   ]
  },
  {
   "cell_type": "code",
   "execution_count": 98,
   "metadata": {},
   "outputs": [],
   "source": [
    "class mymodel(nn.Module):\n",
    "    def __init__(self):\n",
    "        super(mymodel , self).__init__()\n",
    "        self.layer1 = nn.Linear(4 , 128)\n",
    "        self.layer2 = nn.Linear(128 , 128)\n",
    "        self.layer3 = nn.Linear(128 , 3)\n",
    "    def forward(self , x):\n",
    "        x = F.relu(self.layer1(x))\n",
    "        x = F.relu(self.layer2(x))\n",
    "        x = F.softmax(self.layer3(x))\n",
    "        return x\n"
   ]
  },
  {
   "cell_type": "code",
   "execution_count": 99,
   "metadata": {},
   "outputs": [],
   "source": [
    "model = mymodel()"
   ]
  },
  {
   "cell_type": "code",
   "execution_count": 100,
   "metadata": {},
   "outputs": [
    {
     "name": "stdout",
     "output_type": "stream",
     "text": [
      "mymodel(\n",
      "  (layer1): Linear(in_features=4, out_features=128, bias=True)\n",
      "  (layer2): Linear(in_features=128, out_features=128, bias=True)\n",
      "  (layer3): Linear(in_features=128, out_features=3, bias=True)\n",
      ")\n"
     ]
    }
   ],
   "source": [
    "print(model)"
   ]
  },
  {
   "cell_type": "code",
   "execution_count": 128,
   "metadata": {},
   "outputs": [
    {
     "name": "stderr",
     "output_type": "stream",
     "text": [
      "C:\\Users\\pratik korat\\Anaconda3\\envs\\tf\\lib\\site-packages\\ipykernel_launcher.py:10: UserWarning: Implicit dimension choice for softmax has been deprecated. Change the call to include dim=X as an argument.\n",
      "  # Remove the CWD from sys.path while we load stuff.\n"
     ]
    }
   ],
   "source": [
    "out = model(data)\n",
    "losss = nn.MSELoss()\n"
   ]
  },
  {
   "cell_type": "code",
   "execution_count": 154,
   "metadata": {},
   "outputs": [],
   "source": [
    "\n",
    "epochs = 2000"
   ]
  },
  {
   "cell_type": "code",
   "execution_count": 133,
   "metadata": {},
   "outputs": [],
   "source": [
    "optimizer = torch.optim.Adagrad(model.parameters() , lr = 0.001)\n"
   ]
  },
  {
   "cell_type": "code",
   "execution_count": 155,
   "metadata": {},
   "outputs": [
    {
     "name": "stderr",
     "output_type": "stream",
     "text": [
      "C:\\Users\\pratik korat\\Anaconda3\\envs\\tf\\lib\\site-packages\\ipykernel_launcher.py:10: UserWarning: Implicit dimension choice for softmax has been deprecated. Change the call to include dim=X as an argument.\n",
      "  # Remove the CWD from sys.path while we load stuff.\n"
     ]
    },
    {
     "name": "stdout",
     "output_type": "stream",
     "text": [
      "99 tensor(0.0064, grad_fn=<MseLossBackward>)\n",
      "199 tensor(0.0058, grad_fn=<MseLossBackward>)\n",
      "299 tensor(0.0054, grad_fn=<MseLossBackward>)\n",
      "399 tensor(0.0050, grad_fn=<MseLossBackward>)\n",
      "499 tensor(0.0046, grad_fn=<MseLossBackward>)\n",
      "599 tensor(0.0043, grad_fn=<MseLossBackward>)\n",
      "699 tensor(0.0041, grad_fn=<MseLossBackward>)\n",
      "799 tensor(0.0038, grad_fn=<MseLossBackward>)\n",
      "899 tensor(0.0036, grad_fn=<MseLossBackward>)\n",
      "999 tensor(0.0034, grad_fn=<MseLossBackward>)\n",
      "1099 tensor(0.0032, grad_fn=<MseLossBackward>)\n",
      "1199 tensor(0.0030, grad_fn=<MseLossBackward>)\n",
      "1299 tensor(0.0028, grad_fn=<MseLossBackward>)\n",
      "1399 tensor(0.0027, grad_fn=<MseLossBackward>)\n",
      "1499 tensor(0.0025, grad_fn=<MseLossBackward>)\n",
      "1599 tensor(0.0024, grad_fn=<MseLossBackward>)\n",
      "1699 tensor(0.0023, grad_fn=<MseLossBackward>)\n",
      "1799 tensor(0.0022, grad_fn=<MseLossBackward>)\n",
      "1899 tensor(0.0021, grad_fn=<MseLossBackward>)\n",
      "1999 tensor(0.0020, grad_fn=<MseLossBackward>)\n"
     ]
    }
   ],
   "source": [
    "for i in range(epochs):\n",
    "    out = model(data)\n",
    "    \n",
    "    loss = losss(out , label)\n",
    "    \n",
    "    if i % 100 == 99 :\n",
    "        print(i , loss)\n",
    "    \n",
    "    optimizer.zero_grad()\n",
    "    loss.backward()\n",
    "    optimizer.step()"
   ]
  },
  {
   "cell_type": "code",
   "execution_count": 162,
   "metadata": {},
   "outputs": [],
   "source": [
    "count_loss = 0\n",
    "for i in range(len(out)):\n",
    "    if torch.argmax(out) == x[1][i] :\n",
    "        pass\n",
    "    "
   ]
  },
  {
   "cell_type": "code",
   "execution_count": 163,
   "metadata": {},
   "outputs": [
    {
     "name": "stdout",
     "output_type": "stream",
     "text": [
      "tensor(242) [2 0 1 2 1 1 1 0 1 2 2 0 1 1 1 0 2 1 2 2 1 2 1 0 2 0 0 0 2 1 2 2 2 0 0 1 2\n",
      " 0 1 0 1 0 0 0 0 0 0 0 0 2 0 2 1 1 0 2 0 2 1 0 2 0 1 0 1 1 0 0 1 2 1 2 0 2\n",
      " 0 2 1 2 1 2 2 2 1 2 1 0 1 2 1 2 1 0 2 0 1 1 1 2 2 0]\n"
     ]
    }
   ],
   "source": [
    "print(str(torch.argmax(out)) , x[1])"
   ]
  }
 ],
 "metadata": {
  "kernelspec": {
   "display_name": "Python 3",
   "language": "python",
   "name": "python3"
  },
  "language_info": {
   "codemirror_mode": {
    "name": "ipython",
    "version": 3
   },
   "file_extension": ".py",
   "mimetype": "text/x-python",
   "name": "python",
   "nbconvert_exporter": "python",
   "pygments_lexer": "ipython3",
   "version": "3.6.10"
  }
 },
 "nbformat": 4,
 "nbformat_minor": 4
}
