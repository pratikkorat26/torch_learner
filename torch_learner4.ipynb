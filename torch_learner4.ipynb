{
 "cells": [
  {
   "cell_type": "markdown",
   "metadata": {},
   "source": [
    "# In this book , we are gonna build a neural network that classifies iris data"
   ]
  },
  {
   "cell_type": "code",
   "execution_count": 8,
   "metadata": {},
   "outputs": [],
   "source": [
    "import torch \n",
    "import torch.nn as nn\n",
    "import torch.functional as F"
   ]
  },
  {
   "cell_type": "code",
   "execution_count": 11,
   "metadata": {},
   "outputs": [],
   "source": [
    "N, D_in, H, D_out = 1000, 100, 128, 10"
   ]
  },
  {
   "cell_type": "code",
   "execution_count": 12,
   "metadata": {},
   "outputs": [],
   "source": [
    "x = torch.randn((N,D_in) , requires_grad = True)\n",
    "y = torch.randn((N,D_out) , requires_grad = True)"
   ]
  },
  {
   "cell_type": "code",
   "execution_count": 40,
   "metadata": {},
   "outputs": [],
   "source": [
    "model = nn.Sequential(\n",
    "    nn.Linear(D_in ,H),\n",
    "    nn.ReLU(),\n",
    "    nn.Linear(H , D_out)\n",
    "    )\n",
    "loss_fn = nn.MSELoss(reduction=\"mean\")\n",
    "optimizer = torch.optim.Adam(model.parameters() , lr = learning_rate )"
   ]
  },
  {
   "cell_type": "code",
   "execution_count": 41,
   "metadata": {},
   "outputs": [],
   "source": [
    "learning_rate = 1e-5"
   ]
  },
  {
   "cell_type": "code",
   "execution_count": 42,
   "metadata": {},
   "outputs": [
    {
     "name": "stdout",
     "output_type": "stream",
     "text": [
      "99 1.0124680995941162\n",
      "199 0.999984860420227\n",
      "299 0.9889079928398132\n",
      "399 0.9788682460784912\n",
      "499 0.9696165919303894\n",
      "599 0.9609368443489075\n",
      "699 0.9527117013931274\n",
      "799 0.9448462128639221\n",
      "899 0.9372361302375793\n",
      "999 0.9298430681228638\n",
      "1099 0.9226227402687073\n",
      "1199 0.9155109524726868\n",
      "1299 0.9084699153900146\n",
      "1399 0.9015083909034729\n",
      "1499 0.8945950269699097\n"
     ]
    }
   ],
   "source": [
    "for i in range(1500) :\n",
    "    \n",
    "    y_pred = model(x)\n",
    "    \n",
    "    loss = loss_fn(y_pred , y)\n",
    "    \n",
    "    if i % 100 == 99:\n",
    "        print(i, loss.item())\n",
    "    \n",
    "    optimizer.zero_grad()\n",
    "    loss.backward()\n",
    "    optimizer.step()\n",
    "    \n",
    "        "
   ]
  }
 ],
 "metadata": {
  "kernelspec": {
   "display_name": "Python 3",
   "language": "python",
   "name": "python3"
  },
  "language_info": {
   "codemirror_mode": {
    "name": "ipython",
    "version": 3
   },
   "file_extension": ".py",
   "mimetype": "text/x-python",
   "name": "python",
   "nbconvert_exporter": "python",
   "pygments_lexer": "ipython3",
   "version": "3.6.10"
  }
 },
 "nbformat": 4,
 "nbformat_minor": 4
}
